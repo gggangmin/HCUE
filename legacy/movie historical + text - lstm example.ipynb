{
 "cells": [
  {
   "cell_type": "markdown",
   "metadata": {},
   "source": [
    "- current vs. history for three defined features (svm, lstm)\n",
    "- current vs. history for textual reviews (bert, lstm/svm optional)\n",
    "- three defined features vs. textual review for the current review (지금의 실험, 모델을 fair하게 할 방안? 또는 1/2 결과를 종합해서 해석?)\n",
    "- three defined features + textual reviews for historical reviews (최종 제안 모델: lstm/svm-based feature 추출 for three defined features + bert-based feature 추출 for textual reviews-> dense layer based classifier)"
   ]
  },
  {
   "cell_type": "code",
   "execution_count": 13,
   "metadata": {},
   "outputs": [],
   "source": [
    "# historical three feature\n",
    "from keras.preprocessing.text import Tokenizer\n",
    "import codecs\n",
    "from keras_preprocessing.sequence import pad_sequences\n",
    "import numpy as np\n",
    "import nltk\n",
    "from konlpy.tag import Okt\n",
    "from tqdm import tqdm\n",
    "\n",
    "# train set\n",
    "name = \"2\"\n",
    "filename1 = './new_data/definition'+name+'_spynorth_scaling_trust.txt'\n",
    "filename2 = './new_data/definition'+name+'_spynorth_scaling_untrust.txt'\n",
    "filename3 = './new_data/definition'+name+'_intistranger_scaling_trust.txt'\n",
    "filename4 = './new_data/definition'+name+'_intistranger_scaling_untrust.txt'\n",
    "filename5 = './new_data/definition'+name+'_assassin_scaling_trust.txt'\n",
    "filename6 = './new_data/definition'+name+'_assassin_scaling_untrust.txt'\n",
    "filename7 = './new_data/definition'+name+'_1987_scaling_trust.txt'\n",
    "filename8 = './new_data/definition'+name+'_1987_scaling_untrust.txt'\n",
    "filename9 = './new_data/definition'+name+'_taxi_scaling_trust.txt'\n",
    "filename10 = './new_data/definition'+name+'_taxi_scaling_untrust.txt'\n",
    "filename11 = './new_data/definition'+name+'_gongjo_scaling_trust.txt'\n",
    "filename12 = './new_data/definition'+name+'_gongjo_scaling_untrust.txt'\n",
    "\n",
    "\n",
    "with codecs.open(filename1, 'r', encoding='utf-8-sig') as f:\n",
    "    lines1 = f.readlines()\n",
    "with codecs.open(filename2, 'r', encoding='utf-8-sig') as f:\n",
    "    lines2 = f.readlines()\n",
    "with codecs.open(filename3, 'r', encoding='utf-8-sig') as f:\n",
    "    lines3 = f.readlines()\n",
    "with codecs.open(filename4, 'r', encoding='utf-8-sig') as f:\n",
    "    lines4 = f.readlines()\n",
    "with codecs.open(filename5, 'r', encoding='utf-8-sig') as f:\n",
    "    lines5 = f.readlines()\n",
    "with codecs.open(filename6, 'r', encoding='utf-8-sig') as f:\n",
    "    lines6 = f.readlines()\n",
    "with codecs.open(filename7, 'r', encoding='utf-8-sig') as f:\n",
    "    lines7 = f.readlines()\n",
    "with codecs.open(filename8, 'r', encoding='utf-8-sig') as f:\n",
    "    lines8 = f.readlines()\n",
    "with codecs.open(filename9, 'r', encoding='utf-8-sig') as f:\n",
    "    lines9 = f.readlines()\n",
    "with codecs.open(filename10, 'r', encoding='utf-8-sig') as f:\n",
    "    lines10 = f.readlines()\n",
    "with codecs.open(filename9, 'r', encoding='utf-8-sig') as f:\n",
    "    lines11 = f.readlines()\n",
    "with codecs.open(filename10, 'r', encoding='utf-8-sig') as f:\n",
    "    lines12 = f.readlines()\n",
    "\n",
    "\n",
    "\n",
    "# test set\n",
    "\n",
    "\n",
    "with codecs.open('./new_data/definition'+name+'_spynorth_test_t.txt', 'r', 'utf-8-sig') as f:\n",
    "    test1 = f.readlines()\n",
    "with codecs.open('./new_data/definition'+name+'_spynorth_test_ut.txt', 'r', 'utf-8-sig') as f:\n",
    "    test2 = f.readlines()\n",
    "with codecs.open('./new_data/definition'+name+'_intistranger_test_t.txt', 'r', encoding='utf-8-sig') as f:\n",
    "    test3 = f.readlines()\n",
    "with codecs.open('./new_data/definition'+name+'_intistranger_test_ut.txt', 'r', encoding='utf-8-sig') as f:\n",
    "    test4 = f.readlines()\n",
    "with codecs.open('./new_data/definition'+name+'_assassin_test_t.txt', 'r', encoding='utf-8-sig') as f:\n",
    "    test5 = f.readlines()\n",
    "with codecs.open('./new_data/definition'+name+'_assassin_test_ut.txt', 'r', encoding='utf-8-sig') as f:\n",
    "    test6 = f.readlines()\n",
    "with codecs.open('./new_data/definition'+name+'_1987_test_t.txt', 'r', encoding='utf-8-sig') as f:\n",
    "    test7 = f.readlines()\n",
    "with codecs.open('./new_data/definition'+name+'_1987_test_ut.txt', 'r', encoding='utf-8-sig') as f:\n",
    "    test8 = f.readlines()\n",
    "with codecs.open('./new_data/definition'+name+'_taxi_test_t.txt', 'r', encoding='utf-8-sig') as f:\n",
    "    test9 = f.readlines()\n",
    "with codecs.open('./new_data/definition'+name+'_taxi_test_ut.txt', 'r', encoding='utf-8-sig') as f:\n",
    "    test10 = f.readlines()\n",
    "with codecs.open('./new_data/definition'+name+'_gongjo_test_t.txt', 'r', encoding='utf-8-sig') as f:\n",
    "    test11 = f.readlines()\n",
    "with codecs.open('./new_data/definition'+name+'_gongjo_test_ut.txt', 'r', encoding='utf-8-sig') as f:\n",
    "    test12 = f.readlines()\n",
    "    \n",
    "\n"
   ]
  },
  {
   "cell_type": "code",
   "execution_count": 14,
   "metadata": {},
   "outputs": [],
   "source": [
    "import tensorflow as tf\n",
    "import tensorflow_hub as hub\n",
    "import tensorflow_text as text\n",
    "import pandas as pd\n",
    "bert_preprocess = hub.KerasLayer(\"https://tfhub.dev/jeongukjae/distilkobert_cased_preprocess/1\")\n",
    "bert_encoder = hub.KerasLayer(\"https://tfhub.dev/jeongukjae/distilkobert_cased_L-3_H-768_A-12/1\")"
   ]
  },
  {
   "cell_type": "code",
   "execution_count": null,
   "metadata": {},
   "outputs": [],
   "source": []
  },
  {
   "cell_type": "code",
   "execution_count": 15,
   "metadata": {},
   "outputs": [
    {
     "data": {
      "text/plain": [
       "'1.21.5'"
      ]
     },
     "execution_count": 15,
     "metadata": {},
     "output_type": "execute_result"
    }
   ],
   "source": [
    "np.__version__"
   ]
  },
  {
   "cell_type": "markdown",
   "metadata": {},
   "source": [
    "# 공작 (The spy gone north)"
   ]
  },
  {
   "cell_type": "code",
   "execution_count": 16,
   "metadata": {},
   "outputs": [],
   "source": [
    "from keras.layers import Input, Dense\n",
    "from keras.models import Model\n",
    "lines_t = lines1[:2560]\n",
    "lines_ut = lines2[:2560]\n",
    "test_t = test1[:640]\n",
    "test_ut = test2[:640]\n",
    "\n",
    "\n",
    "lines_ = []\n",
    "test_lines_ = []\n",
    "\n",
    "lines1_ = []\n",
    "lines2_ = []\n",
    "lines3_ = []\n",
    "lines4_ = []\n",
    "# current three feature\n",
    "feature1 = [] # train\n",
    "feature2 = [] # test\n",
    "# historical three feature\n",
    "feature3 = [] # train\n",
    "feature4 = [] # test\n",
    "# current text\n",
    "current_text1 = [] # train\n",
    "current_text2= [] # test\n",
    "# historical text\n",
    "history_text1 = [] # train\n",
    "history_text2= [] # test\n",
    "\n",
    "rating = []\n",
    "sentiment = []\n",
    "correlation = []\n",
    "## current three feature\n",
    "for line in lines_t:\n",
    "    \n",
    "    try:\n",
    "        # line = line.replace(\"\\n\",\" \")\n",
    "        a = line.split(\",\")[:3]\n",
    "        a = list(map(float, a))\n",
    "        feature1.append(a) # current feature\n",
    "    except:\n",
    "        print(lines_t.index(line))\n",
    "\n",
    "for line in lines_ut:\n",
    "    line = line.replace(\"\\n\",\" \")\n",
    "    a = line.split(\",\")[:3]\n",
    "    a = list(map(float, a))\n",
    "    feature1.append(a)\n",
    "\n",
    "# historical three feature\n",
    "\n",
    "for line in lines_t:\n",
    "    line = line.replace(\"\\n\",\" \")\n",
    "    a = line.split(\",\")[3:10]\n",
    "    a = list(map(float, a))\n",
    "    ravg = []\n",
    "    savg = []\n",
    "    cavg = []\n",
    "    ravg.append(a[0])\n",
    "    ravg.append(a[3])\n",
    "    savg.append(a[1])\n",
    "    savg.append(a[4])\n",
    "    cavg.append(a[5])\n",
    "    cavg.append(a[6])\n",
    "    ll = []\n",
    "    ll.append(ravg)\n",
    "    ll.append(savg)\n",
    "    ll.append(cavg)\n",
    "    feature3.append(ll) # current feature\n",
    "\n",
    "for line in lines_ut:\n",
    "    line = line.replace(\"\\n\",\" \")\n",
    "    a = line.split(\",\")[3:10]\n",
    "    a = list(map(float, a))\n",
    "    ravg = []\n",
    "    savg = []\n",
    "    cavg = []\n",
    "    ravg.append(a[0])\n",
    "    ravg.append(a[3])\n",
    "    savg.append(a[1])\n",
    "    savg.append(a[4])\n",
    "    cavg.append(a[5])\n",
    "    cavg.append(a[6])\n",
    "    ll = []\n",
    "    ll.append(ravg)\n",
    "    ll.append(savg)\n",
    "    ll.append(cavg)\n",
    "    feature3.append(ll)\n",
    "\n",
    "# current text\n",
    "\n",
    "for line in lines_t:\n",
    "    a = line.split(\",\")[10]\n",
    "    current_text1.append(a.strip()) # current feature\n",
    "\n",
    "for line in lines_ut:\n",
    "    a = line.split(\",\")[10]\n",
    "    current_text1.append(a.strip())\n",
    "    \n",
    "# historical text\n",
    "\n",
    "for line in lines_t:\n",
    "    #print(lines_t.index(line))\n",
    "    a = line.split(\",\")[11]\n",
    "    history_text1.append(a.strip()) # current feature\n",
    "\n",
    "for line in lines_ut:\n",
    "    a = line.split(\",\")[11]\n",
    "    history_text1.append(a.strip())\n",
    "    \n",
    "    \n",
    "# test data\n",
    "# current three\n",
    "for line in test_t:\n",
    "    a = line.split(\",\")[:3]\n",
    "    a = list(map(float, a))\n",
    "    feature2.append(a)\n",
    "    \n",
    "for line in test_ut:\n",
    "    a = line.split(\",\")[:3]\n",
    "    a = list(map(float, a))\n",
    "    feature2.append(a)\n",
    "\n",
    "    \n",
    "# historical three\n",
    "for line in test_t:\n",
    "    a = line.split(\",\")[3:10]\n",
    "    a = list(map(float, a))\n",
    "    ravg = []\n",
    "    savg = []\n",
    "    cavg = []\n",
    "    ravg.append(a[0])\n",
    "    ravg.append(a[3])\n",
    "    savg.append(a[1])\n",
    "    savg.append(a[4])\n",
    "    cavg.append(a[5])\n",
    "    cavg.append(a[6])\n",
    "    ll = []\n",
    "    ll.append(ravg)\n",
    "    ll.append(savg)\n",
    "    ll.append(cavg)\n",
    "    feature4.append(ll)\n",
    "    \n",
    "for line in test_ut:\n",
    "    a = line.split(\",\")[3:10]\n",
    "    a = line.split(\",\")[3:10]\n",
    "    a = list(map(float, a))\n",
    "    ravg = []\n",
    "    savg = []\n",
    "    cavg = []\n",
    "    ravg.append(a[0])\n",
    "    ravg.append(a[3])\n",
    "    savg.append(a[1])\n",
    "    savg.append(a[4])\n",
    "    cavg.append(a[5])\n",
    "    cavg.append(a[6])\n",
    "    ll = []\n",
    "    ll.append(ravg)\n",
    "    ll.append(savg)\n",
    "    ll.append(cavg)\n",
    "    feature4.append(ll) \n",
    "    \n",
    "# current text\n",
    "\n",
    "for line in test_t:\n",
    "    a = line.split(\",\")[10]\n",
    "    current_text2.append(a.strip()) # current feature\n",
    "\n",
    "for line in test_ut:\n",
    "    a = line.split(\",\")[10]\n",
    "    current_text2.append(a.strip())\n",
    "\n",
    "# history text\n",
    "for line in test_t:\n",
    "    \n",
    "    a = line.split(\",\")[11]\n",
    "    history_text2.append(a.strip()) # current feature\n",
    "\n",
    "for line in test_ut:\n",
    "    a = line.split(\",\")[11]\n",
    "    history_text2.append(a.strip())\n",
    "\n",
    "train_labels = [] # train 데이터 label\n",
    "test_labels = [] # test 데이터 label\n",
    "for i in range(len(lines_t)):\n",
    "    train_labels.append(0)\n",
    "for j in range(len(lines_ut)):\n",
    "    train_labels.append(1)\n",
    "for i in range(len(test_t)):\n",
    "    test_labels.append(0)\n",
    "for j in range(len(test_ut)):\n",
    "    test_labels.append(1)\n",
    "\n",
    "train_feature = np.asarray(feature3) # feature를 벡터화\n",
    "test_feature = np.asarray(feature4)\n",
    "train_labels = np.asarray(train_labels)\n",
    "test_labels = np.asarray(test_labels)   \n",
    "train_labels = np.asarray(train_labels).astype('int32').reshape((-1,1)) # input이 두개라서 dimension을 바꿔줘야 함\n",
    "test_labels = np.asarray(test_labels).astype('int32').reshape((-1,1))\n"
   ]
  },
  {
   "cell_type": "code",
   "execution_count": 6,
   "metadata": {},
   "outputs": [
    {
     "data": {
      "text/plain": [
       "array([[[2.62466929e+00, 6.66666667e+00, 5.74377240e-01]],\n",
       "\n",
       "       [[6.64391041e-01, 3.15781549e-01, 6.60022756e-01]],\n",
       "\n",
       "       [[4.24264069e+00, 4.00000000e+00, 5.72817907e-01]],\n",
       "\n",
       "       ...,\n",
       "\n",
       "       [[9.93927638e-01, 1.15442947e-01, 9.23394057e-01]],\n",
       "\n",
       "       [[1.41421356e+00, 3.00000000e+00, 2.23017323e-03]],\n",
       "\n",
       "       [[9.74766413e-03, 1.73222501e-01, 2.99902523e-01]]])"
      ]
     },
     "execution_count": 6,
     "metadata": {},
     "output_type": "execute_result"
    }
   ],
   "source": [
    "train_feature"
   ]
  },
  {
   "cell_type": "code",
   "execution_count": 7,
   "metadata": {},
   "outputs": [
    {
     "data": {
      "text/plain": [
       "5120"
      ]
     },
     "execution_count": 7,
     "metadata": {},
     "output_type": "execute_result"
    }
   ],
   "source": [
    "len(train_labels)"
   ]
  },
  {
   "cell_type": "code",
   "execution_count": 8,
   "metadata": {},
   "outputs": [
    {
     "data": {
      "text/plain": [
       "1280"
      ]
     },
     "execution_count": 8,
     "metadata": {},
     "output_type": "execute_result"
    }
   ],
   "source": [
    "len(test_labels)"
   ]
  },
  {
   "cell_type": "code",
   "execution_count": 9,
   "metadata": {},
   "outputs": [
    {
     "data": {
      "text/plain": [
       "(10240, 1, 3)"
      ]
     },
     "execution_count": 9,
     "metadata": {},
     "output_type": "execute_result"
    }
   ],
   "source": [
    "train_feature.shape"
   ]
  },
  {
   "cell_type": "code",
   "execution_count": 10,
   "metadata": {},
   "outputs": [
    {
     "data": {
      "text/plain": [
       "(2560, 1, 3)"
      ]
     },
     "execution_count": 10,
     "metadata": {},
     "output_type": "execute_result"
    }
   ],
   "source": [
    "test_feature.shape"
   ]
  },
  {
   "cell_type": "code",
   "execution_count": 11,
   "metadata": {},
   "outputs": [
    {
     "data": {
      "text/plain": [
       "(5120, 1)"
      ]
     },
     "execution_count": 11,
     "metadata": {},
     "output_type": "execute_result"
    }
   ],
   "source": [
    "train_labels.shape"
   ]
  },
  {
   "cell_type": "code",
   "execution_count": 17,
   "metadata": {},
   "outputs": [],
   "source": [
    "train = list(zip(history_text1,train_labels))\n",
    "test = list(zip(history_text2,test_labels))\n",
    "import pandas as pd\n",
    "train_df = pd.DataFrame(train, columns = ['text', 'label'])\n",
    "test_df = pd.DataFrame(test, columns = ['text', 'label'])\n",
    "\n",
    "X_train = train_df['text']\n",
    "X_test = test_df['text']\n",
    "y_train = train_df['label']\n",
    "y_test = test_df[\"label\"]\n",
    "\n",
    "from sklearn.model_selection import train_test_split\n",
    "\n",
    "\n",
    "x_train, x_val,x_feature,x_val_feature, y_train, y_val = train_test_split(X_train,train_feature, train_labels, test_size=0.1, \n",
    "                                                 random_state=1, shuffle=False)"
   ]
  },
  {
   "cell_type": "code",
   "execution_count": null,
   "metadata": {},
   "outputs": [],
   "source": []
  },
  {
   "cell_type": "code",
   "execution_count": null,
   "metadata": {},
   "outputs": [],
   "source": [
    "y_train"
   ]
  },
  {
   "cell_type": "code",
   "execution_count": null,
   "metadata": {},
   "outputs": [],
   "source": [
    "x_feature.shape"
   ]
  },
  {
   "cell_type": "code",
   "execution_count": 18,
   "metadata": {},
   "outputs": [
    {
     "name": "stdout",
     "output_type": "stream",
     "text": [
      "Epoch 1/10\n",
      "36/36 [==============================] - 118s 3s/step - loss: 0.6838 - accuracy: 0.5551 - precision: 0.4978 - recall: 0.1084 - val_loss: 0.8251 - val_accuracy: 0.1484 - val_precision: 1.0000 - val_recall: 0.1484\n",
      "Epoch 2/10\n",
      "36/36 [==============================] - 113s 3s/step - loss: 0.6533 - accuracy: 0.6265 - precision: 0.6382 - recall: 0.3687 - val_loss: 0.6425 - val_accuracy: 0.7031 - val_precision: 1.0000 - val_recall: 0.7031\n",
      "Epoch 3/10\n",
      "36/36 [==============================] - 113s 3s/step - loss: 0.6326 - accuracy: 0.6502 - precision: 0.6313 - recall: 0.5117 - val_loss: 0.5507 - val_accuracy: 0.7754 - val_precision: 1.0000 - val_recall: 0.7754\n",
      "Epoch 4/10\n",
      "36/36 [==============================] - 113s 3s/step - loss: 0.6136 - accuracy: 0.6610 - precision: 0.6361 - recall: 0.5547 - val_loss: 0.6727 - val_accuracy: 0.6523 - val_precision: 1.0000 - val_recall: 0.6523\n",
      "Epoch 5/10\n",
      "36/36 [==============================] - 113s 3s/step - loss: 0.6001 - accuracy: 0.6758 - precision: 0.6488 - recall: 0.5898 - val_loss: 0.6061 - val_accuracy: 0.7070 - val_precision: 1.0000 - val_recall: 0.7070\n",
      "Epoch 6/10\n",
      "36/36 [==============================] - 113s 3s/step - loss: 0.5900 - accuracy: 0.6827 - precision: 0.6528 - recall: 0.6113 - val_loss: 0.4906 - val_accuracy: 0.7871 - val_precision: 1.0000 - val_recall: 0.7871\n",
      "Epoch 7/10\n",
      "36/36 [==============================] - 113s 3s/step - loss: 0.5717 - accuracy: 0.7025 - precision: 0.6805 - recall: 0.6230 - val_loss: 0.5401 - val_accuracy: 0.7578 - val_precision: 1.0000 - val_recall: 0.7578\n",
      "Epoch 8/10\n",
      "36/36 [==============================] - 113s 3s/step - loss: 0.5712 - accuracy: 0.7042 - precision: 0.6741 - recall: 0.6475 - val_loss: 0.7838 - val_accuracy: 0.5547 - val_precision: 1.0000 - val_recall: 0.5547\n",
      "Epoch 9/10\n",
      "36/36 [==============================] - 113s 3s/step - loss: 0.5703 - accuracy: 0.7066 - precision: 0.6826 - recall: 0.6353 - val_loss: 0.4418 - val_accuracy: 0.8125 - val_precision: 1.0000 - val_recall: 0.8125\n",
      "Epoch 10/10\n",
      "36/36 [==============================] - 113s 3s/step - loss: 0.5383 - accuracy: 0.7331 - precision: 0.7135 - recall: 0.6675 - val_loss: 0.3978 - val_accuracy: 0.8438 - val_precision: 1.0000 - val_recall: 0.8438\n",
      "40/40 [==============================] - 28s 677ms/step - loss: 0.5359 - accuracy: 0.7305 - precision: 0.7211 - recall: 0.7516\n"
     ]
    }
   ],
   "source": [
    "#from keras import layers\n",
    "#from keras.models import Model\n",
    "# lstm model\n",
    "with tf.device('/cpu:0'):\n",
    "    text_input = tf.keras.layers.Input(shape=(), dtype=tf.string, name='text')\n",
    "    preprocessed_text = bert_preprocess(text_input)\n",
    "    outputs = bert_encoder(preprocessed_text)\n",
    "    #l = tf.keras.layers.Dropout(0.1, name=\"dropout\")(outputs['sequence_output'])\n",
    "    l = tf.keras.layers.Dropout(0.1, name=\"dropout\")(outputs['pooled_output'])\n",
    "    # l = tf.keras.layers.LSTM(32, name=\"lstm\")(l)\n",
    "\n",
    "    # feature 은 wide model..?\n",
    "    # feature_input = tf.keras.layers.Input(shape=(1,3,),) # tf.keras.layer랑 keras.layer 섞어 쓰면 안됨..\n",
    "    feature_input = tf.keras.layers.Input(shape=(3,2,),)\n",
    "    #feature_output = tf.keras.layers.LSTM(32, return_sequences=True)(feature_input)\n",
    "    #feature_output = tf.keras.layers.LSTM(32)(feature_output)\n",
    "    #feature_output = tf.keras.layers.Dense(3,activation=\"relu\")(feature_output)\n",
    "    feature_output = tf.keras.layers.Dense(3,activation=\"relu\")(feature_input)\n",
    "    feature_output = tf.keras.layers.Flatten()(feature_output)\n",
    "    \n",
    "\n",
    "    concatenated = tf.keras.layers.concatenate([l, feature_output])\n",
    "    concat_reshape = tf.keras.layers.Reshape((1,777))(concatenated) # reshape 2d to 3d\n",
    "    concat_out = tf.keras.layers.LSTM(32, return_sequences=True)(concat_reshape)\n",
    "    concat_out = tf.keras.layers.LSTM(32, return_sequences=True)(concat_out)\n",
    "    concat_out = tf.keras.layers.LSTM(32)(concat_out)\n",
    "    concat_out = tf.keras.layers.Dense(1, activation='sigmoid')(concat_out)\n",
    "    #concat_out = tf.keras.layers.LSTM(1, activation='sigmoid')(concatenated)\n",
    "\n",
    "    model = tf.keras.models.Model([text_input, feature_input], concat_out)\n",
    "\n",
    "    METRICS = [\n",
    "          tf.keras.metrics.BinaryAccuracy(name='accuracy'),\n",
    "          tf.keras.metrics.Precision(name='precision'),\n",
    "          tf.keras.metrics.Recall(name='recall')\n",
    "        ]\n",
    "\n",
    "    model.compile(optimizer='adam',\n",
    "     loss='binary_crossentropy',\n",
    "     metrics=METRICS)\n",
    "    model.fit([x_train,x_feature], y_train, epochs=10,batch_size=128, validation_data=([x_val,x_val_feature], y_val))\n",
    "    # multi input 이면 꼭!!! validation도 []로 묶어주는 거 잊지 말기..\n",
    "result1 = model.evaluate([X_test,test_feature], test_labels) # definition 1"
   ]
  },
  {
   "cell_type": "code",
   "execution_count": null,
   "metadata": {},
   "outputs": [],
   "source": []
  },
  {
   "cell_type": "code",
   "execution_count": null,
   "metadata": {},
   "outputs": [],
   "source": [
    "result1"
   ]
  },
  {
   "cell_type": "code",
   "execution_count": null,
   "metadata": {},
   "outputs": [],
   "source": [
    "model.evaluate([X_test,test_feature], test_labels) # definition 1"
   ]
  }
 ],
 "metadata": {
  "kernelspec": {
   "display_name": "lab",
   "language": "python",
   "name": "lab"
  },
  "language_info": {
   "codemirror_mode": {
    "name": "ipython",
    "version": 3
   },
   "file_extension": ".py",
   "mimetype": "text/x-python",
   "name": "python",
   "nbconvert_exporter": "python",
   "pygments_lexer": "ipython3",
   "version": "3.7.16"
  }
 },
 "nbformat": 4,
 "nbformat_minor": 5
}
